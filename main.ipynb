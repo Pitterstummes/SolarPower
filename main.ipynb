{
 "cells": [
  {
   "cell_type": "markdown",
   "metadata": {},
   "source": [
    "Script to calculate the expected PV performance without weather"
   ]
  },
  {
   "cell_type": "markdown",
   "metadata": {},
   "source": [
    "Import Packages"
   ]
  },
  {
   "cell_type": "code",
   "execution_count": 160,
   "metadata": {},
   "outputs": [],
   "source": [
    "import numpy as np              \n",
    "import matplotlib.pyplot as plt\n",
    "import PyQt6\n",
    "import datetime\n",
    "import ephem\n",
    "import pandas as pd"
   ]
  },
  {
   "cell_type": "markdown",
   "metadata": {},
   "source": [
    "Functions"
   ]
  },
  {
   "cell_type": "code",
   "execution_count": 161,
   "metadata": {},
   "outputs": [],
   "source": [
    "def calculate_sun_position(latitude, longitude, date):\n",
    "    # Calculate the sun's position for given coordinates and date\n",
    "    observer = ephem.Observer()\n",
    "    observer.lat = str(latitude)\n",
    "    observer.lon = str(longitude)\n",
    "    observer.date = date\n",
    "\n",
    "    sun = ephem.Sun()\n",
    "    sun.compute(observer)\n",
    "\n",
    "    azimuth = np.rad2deg(sun.az)\n",
    "    elevation = np.rad2deg(sun.alt)\n",
    "    return azimuth, elevation\n",
    "\n",
    "def calculate_delta_angle(sun_azimut, panel_orientation, sun_elevation, panel_tilt):\n",
    "    # Calculate the angle between the sun and the solar panel\n",
    "    # Convert to radians\n",
    "    sun_azimut = np.deg2rad(sun_azimut)\n",
    "    panel_orientation = np.deg2rad(panel_orientation)\n",
    "    sun_elevation = np.deg2rad(sun_elevation)\n",
    "    panel_tilt = np.deg2rad(panel_tilt)\n",
    "    # Convert to spherical coordinates, r = 1\n",
    "    theta_sun = np.pi / 2 - sun_elevation\n",
    "    theta_panel = np.pi / 2 - panel_tilt\n",
    "    phi_sun = sun_azimut\n",
    "    phi_panel = panel_orientation\n",
    "    # Calculate dot product of the two vectors\n",
    "    dot_product = np.sin(theta_sun) * np.sin(theta_panel) * np.cos(\n",
    "        phi_sun - phi_panel\n",
    "    ) + np.cos(theta_sun) * np.cos(theta_panel)\n",
    "    # Calculate angle in degrees\n",
    "    angle = np.rad2deg(np.arccos(dot_product))\n",
    "    return angle\n",
    "\n",
    "def create_timestamps(date, time_step):\n",
    "    # Create an array of timestamps for one day\n",
    "    start_time = datetime.datetime(date.year, date.month, date.day)\n",
    "    end_time = start_time + datetime.timedelta(days=1)\n",
    "    num_steps = int((end_time - start_time) / time_step)\n",
    "    timestamps = np.array([start_time + i * time_step for i in range(num_steps)])\n",
    "    return timestamps\n",
    "\n",
    "def get_sun_trajectory(latitude, longitude, timestamps):\n",
    "    # Calculate the sun's position for each timestamp\n",
    "    sun_azimuths = np.empty(len(timestamps))\n",
    "    sun_elevations = np.empty(len(timestamps))\n",
    "    for i, timestamp in enumerate(timestamps):\n",
    "        azimuth, elevation = calculate_sun_position(latitude, longitude, timestamp)\n",
    "        sun_azimuths[i] = azimuth\n",
    "        sun_elevations[i] = elevation\n",
    "    return sun_azimuths, sun_elevations\n",
    "\n",
    "def limit_to_daylieght(azimuths, elevations, timestamps):\n",
    "    # Limit the data to daylight hours\n",
    "    daylight_mask = elevations >= 0\n",
    "    azimuths = azimuths[daylight_mask]\n",
    "    elevations = elevations[daylight_mask]\n",
    "    timestamps = timestamps[daylight_mask]\n",
    "    return azimuths, elevations, timestamps\n",
    "\n",
    "def get_pv_sun_angle(azimuths, elevations, panel_orientation, panel_tilt):\n",
    "    # Calculate the angle between the sun and the solar panel for each timestep\n",
    "    angles = np.empty((len(panel_orientation), len(azimuths)))\n",
    "    for num_panel in range(len(panel_orientation)):\n",
    "        for i in range(len(azimuths)):\n",
    "            angles[num_panel, i] = calculate_delta_angle(\n",
    "                azimuths[i],\n",
    "                panel_orientation[num_panel],\n",
    "                elevations[i],\n",
    "                panel_tilt[num_panel],\n",
    "            )\n",
    "    return angles\n",
    "\n",
    "def calc_irradiance_scaling(elevations):\n",
    "    # Calculate the irradiance scaling for each elevation\n",
    "    irradiance = np.zeros(len(elevations))\n",
    "    for i in range(len(elevations)):\n",
    "        if elevations[i] > 0:\n",
    "            irradiance[i] = np.sin(np.deg2rad(elevations[i]))\n",
    "    return irradiance\n",
    "\n",
    "def calc_power_ratio(angles, peak_power):\n",
    "    # Calculate the power ratio for each angle with respect to the peak power\n",
    "    power_ratio = np.zeros(len(angles[0]))\n",
    "    for panel in range(len(angles)):\n",
    "        for i in range(len(power_ratio)):\n",
    "            if angles[panel][i] < 90:\n",
    "                power_ratio[i] += (np.cos(np.deg2rad(angles[panel][i])) \n",
    "                                   * peak_power[panel])\n",
    "    return power_ratio\n"
   ]
  },
  {
   "cell_type": "markdown",
   "metadata": {},
   "source": [
    "User input"
   ]
  },
  {
   "cell_type": "code",
   "execution_count": 162,
   "metadata": {},
   "outputs": [],
   "source": [
    "# Coordinates in degrees\n",
    "latitude = 48.8\n",
    "longitude = 9\n",
    "\n",
    "# Panel orientation, tilt and peak power\n",
    "orientation = np.array([96, 276]) # degrees, north = 0, east = 90, ...\n",
    "tilt = np.array([30, 45]) # degrees, 0 = horizontal, 90 = vertical\n",
    "peak_power = np.array([3320, 4980]) # Watts peak\n",
    "\n",
    "# Date and stepsize\n",
    "date = (datetime.datetime.now() # Current date\n",
    "        + datetime.timedelta(weeks=0, days=0)) # Add weeks and days \n",
    "time_step = datetime.timedelta(minutes=1, seconds=0) # Time steps for the simulation\n"
   ]
  },
  {
   "cell_type": "markdown",
   "metadata": {},
   "source": [
    "Run script"
   ]
  },
  {
   "cell_type": "code",
   "execution_count": 163,
   "metadata": {},
   "outputs": [],
   "source": [
    "timestamps = create_timestamps(date, time_step)\n",
    "sun_azimuths, sun_elevations = get_sun_trajectory(latitude, longitude, timestamps)\n",
    "angles = get_pv_sun_angle(sun_azimuths, sun_elevations, orientation, tilt)\n",
    "irradiance_scaling = calc_irradiance_scaling(sun_elevations)\n",
    "power_ratio = calc_power_ratio(angles, peak_power)"
   ]
  },
  {
   "cell_type": "code",
   "execution_count": 164,
   "metadata": {},
   "outputs": [],
   "source": [
    "plt.scatter(sun_azimuths, angles[0], label=\"Panel 1\")\n",
    "plt.scatter(sun_azimuths, angles[1], label=\"Panel 2\")\n",
    "plt.scatter(sun_azimuths, power_ratio / 50, label=\"Power ratio\")\n",
    "plt.scatter(sun_azimuths, power_ratio * irradiance_scaling / 50, label=\"Scaled power ratio\")\n",
    "plt.xlabel(\"Azimuth in degrees\")\n",
    "plt.ylabel(\"Angle in degrees\")\n",
    "titletext = (\n",
    "        \"Data for Lat: \"\n",
    "        + str(latitude)\n",
    "        + \" and Lon: \"\n",
    "        + str(longitude)\n",
    "        + \" on \"\n",
    "        + str(date.date())\n",
    "    )\n",
    "plt.title(titletext)\n",
    "plt.legend()\n",
    "plt.show()"
   ]
  }
 ],
 "metadata": {
  "kernelspec": {
   "display_name": "Python 3",
   "language": "python",
   "name": "python3"
  },
  "language_info": {
   "codemirror_mode": {
    "name": "ipython",
    "version": 3
   },
   "file_extension": ".py",
   "mimetype": "text/x-python",
   "name": "python",
   "nbconvert_exporter": "python",
   "pygments_lexer": "ipython3",
   "version": "3.11.7"
  }
 },
 "nbformat": 4,
 "nbformat_minor": 2
}
